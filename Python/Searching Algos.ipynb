{
 "cells": [
  {
   "cell_type": "code",
   "execution_count": 1,
   "metadata": {},
   "outputs": [
    {
     "name": "stdout",
     "output_type": "stream",
     "text": [
      "5\n"
     ]
    }
   ],
   "source": [
    "#Linear search\n",
    "# Print a single integer denoting the index of the last occurrence of integer M in the array if it exists, otherwise print -1.\n",
    "\n",
    "l1 = \"5 1\"\n",
    "l2 = \"1 2 3 4 1\"\n",
    "\n",
    "n = int(l1.split(\" \")[0])\n",
    "m = int(l1.split(\" \")[1])\n",
    "array = [int(no) for no in l2.split(\" \")]\n",
    "\n",
    "index = -1\n",
    "for i in range(0,n):\n",
    "    if array[i] == m:\n",
    "        index = i+1\n",
    "        \n",
    "print(index) "
   ]
  },
  {
   "cell_type": "code",
   "execution_count": 2,
   "metadata": {},
   "outputs": [
    {
     "name": "stdout",
     "output_type": "stream",
     "text": [
      "1\n",
      "2\n",
      "3\n",
      "4\n",
      "5\n"
     ]
    }
   ],
   "source": [
    "# Binary search\n",
    "# You need to print q integers denoting the answer to each query.\n",
    "\n",
    "n = 5\n",
    "l2 = \"1 2 3 4 5\"\n",
    "q = 5\n",
    "\n",
    "def binary_search(array, m, n):\n",
    "    low = 0\n",
    "    high = n-1\n",
    "    while low <= high:\n",
    "        mid = int((low + high)/2)\n",
    "        if array[mid] == m:\n",
    "            return mid\n",
    "        elif m > array[mid]:\n",
    "            low = mid + 1\n",
    "        else:\n",
    "            high = mid - 1\n",
    "\n",
    "\n",
    "array = [int(no) for no in l2.split(\" \")]\n",
    "array.sort()\n",
    "mlist = [1,2,3,4,5]\n",
    "\n",
    "\n",
    "for m in mlist:\n",
    "    print(binary_search(array, m, n) + 1)\n",
    "\n"
   ]
  },
  {
   "cell_type": "code",
   "execution_count": null,
   "metadata": {},
   "outputs": [],
   "source": []
  }
 ],
 "metadata": {
  "kernelspec": {
   "display_name": "Python 3",
   "language": "python",
   "name": "python3"
  },
  "language_info": {
   "codemirror_mode": {
    "name": "ipython",
    "version": 3
   },
   "file_extension": ".py",
   "mimetype": "text/x-python",
   "name": "python",
   "nbconvert_exporter": "python",
   "pygments_lexer": "ipython3",
   "version": "3.7.6"
  }
 },
 "nbformat": 4,
 "nbformat_minor": 4
}
