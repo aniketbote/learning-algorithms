{
 "cells": [
  {
   "cell_type": "code",
   "execution_count": 1,
   "metadata": {},
   "outputs": [
    {
     "name": "stdout",
     "output_type": "stream",
     "text": [
      "3\n"
     ]
    }
   ],
   "source": [
    "# Greedy\n",
    "# Input:\n",
    "# First line contains one integer, T, number of test cases.\n",
    "# First line of each test case contains two integer, N and X, number of bottles and capacity of the container.\n",
    "# Second line of each test case contains N space separated integers, capacities of bottles.\n",
    "\n",
    "# Output:\n",
    "# For each test case print the maximum number of bottles you can fill.\n",
    "\n",
    "T = 1\n",
    "l2 = \"5 10\"\n",
    "l3 = \"8 5 4 3 2\"\n",
    "\n",
    "for test_cases in range(T):    \n",
    "    N = int(l2.split(\" \")[0])\n",
    "    X = int(l2.split(\" \")[1])\n",
    "    bottles = [int(a) for a in l3.split(\" \")]\n",
    "    bottles.sort()\n",
    "    count = 0\n",
    "    for bottle in bottles:\n",
    "        if X - bottle >= 0:\n",
    "            X -= bottle\n",
    "            count += 1\n",
    "        else:\n",
    "            break\n",
    "    print(count)"
   ]
  },
  {
   "cell_type": "code",
   "execution_count": null,
   "metadata": {},
   "outputs": [],
   "source": []
  }
 ],
 "metadata": {
  "kernelspec": {
   "display_name": "Python 3",
   "language": "python",
   "name": "python3"
  },
  "language_info": {
   "codemirror_mode": {
    "name": "ipython",
    "version": 3
   },
   "file_extension": ".py",
   "mimetype": "text/x-python",
   "name": "python",
   "nbconvert_exporter": "python",
   "pygments_lexer": "ipython3",
   "version": "3.7.6"
  }
 },
 "nbformat": 4,
 "nbformat_minor": 4
}
