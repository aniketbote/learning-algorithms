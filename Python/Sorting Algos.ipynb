{
 "cells": [
  {
   "cell_type": "code",
   "execution_count": 2,
   "metadata": {},
   "outputs": [
    {
     "name": "stdout",
     "output_type": "stream",
     "text": [
      "10\n"
     ]
    }
   ],
   "source": [
    "# Bubble sort\n",
    "# You just need to print the number of swaps required to sort this array using bubble sort\n",
    "\n",
    "n = 5\n",
    "l2 = \"5 4 3 2 1\"\n",
    "array = [int(a) for a in l2.split(\" \")]\n",
    "\n",
    "def bubble_sort(array, n):\n",
    "    count = 0\n",
    "    for i in range(n-1):\n",
    "        for j in range(n-i-1):\n",
    "            if array[j] > array[j+1]:\n",
    "                temp = array[j]\n",
    "                array[j] = array[j+1]\n",
    "                array[j+1] = temp\n",
    "                count += 1\n",
    "    return count\n",
    "\n",
    "\n",
    "print(bubble_sort(array, n))"
   ]
  },
  {
   "cell_type": "code",
   "execution_count": 4,
   "metadata": {},
   "outputs": [
    {
     "name": "stdout",
     "output_type": "stream",
     "text": [
      "1 2 3 4 5\n"
     ]
    }
   ],
   "source": [
    "# Selection sort\n",
    "# Print N space separated integers denoting the state of the array after x steps\n",
    "\n",
    "l1 = \"5 2\".split(\" \")\n",
    "l2 = \"1 2 3 4 5\"\n",
    "array = [int(a) for a in l2.split(\" \")]\n",
    "n = int(l1[0])\n",
    "x = int(l1[1])\n",
    "\n",
    "def swap(a, b):\n",
    "    temp = array[a]\n",
    "    array[a] = array[b]\n",
    "    array[b] = temp\n",
    "\n",
    "\n",
    "def selection_sort(array, n, x):\n",
    "    for i in range(x):\n",
    "        minimum = i\n",
    "\n",
    "        for j in range(i+1, n):\n",
    "            if array[minimum] > array[j]:\n",
    "                minimum = j\n",
    "        \n",
    "        swap(minimum, i)\n",
    "    print(*array, sep = \" \")\n",
    "\n",
    "selection_sort(array, n , x)"
   ]
  },
  {
   "cell_type": "code",
   "execution_count": 5,
   "metadata": {},
   "outputs": [
    {
     "name": "stdout",
     "output_type": "stream",
     "text": [
      "1 2 3 4 5 "
     ]
    }
   ],
   "source": [
    "# Indertion sort\n",
    "# Print N space separated integers on a single line , where the Ith integer denotes the position of  if this array were sorted.\n",
    "\n",
    "def insertion_sort(array, n):\n",
    "    for i in range(n):\n",
    "        temp = array[i]\n",
    "        j = i\n",
    "        while j > 0 and temp < array[j - 1]:\n",
    "            array[j] = array[j-1]\n",
    "            j -= 1\n",
    "        array[j] = temp\n",
    "    return array\n",
    "\n",
    "n = 5\n",
    "l2 = \"1 2 3 4 5\"\n",
    "array = [int(a) for a in l2.split(\" \")]\n",
    "unsorted_array = array.copy()\n",
    "\n",
    "array = insertion_sort(array, n)\n",
    "\n",
    "for i in unsorted_array:\n",
    "    print(array.index(i) + 1, end = \" \")\n"
   ]
  },
  {
   "cell_type": "code",
   "execution_count": 6,
   "metadata": {},
   "outputs": [
    {
     "name": "stdout",
     "output_type": "stream",
     "text": [
      "MERGESORT: start = 0 end = 4 array = [5, 4, 3, 2, 1]\n",
      "MERGESORT: start = 0 end = 2 array = [5, 4, 3]\n",
      "MERGESORT: start = 0 end = 1 array = [5, 4]\n",
      "\n",
      "MERGE: start = 0 mid = 0 end = 1 array1 = [5] array2 = [4]\n",
      "MERGE: Arr = [4, 0]\n",
      "MERGE: Arr = [4, 5]\n",
      "MERGE: array = [4, 5, 3, 2, 1]\n",
      "\n",
      "MERGE: start = 0 mid = 1 end = 2 array1 = [4, 5] array2 = [3]\n",
      "MERGE: Arr = [3, 0, 0]\n",
      "MERGE: Arr = [3, 4, 0]\n",
      "MERGE: Arr = [3, 4, 5]\n",
      "MERGE: array = [3, 4, 5, 2, 1]\n",
      "MERGESORT: start = 3 end = 4 array = [2, 1]\n",
      "\n",
      "MERGE: start = 3 mid = 3 end = 4 array1 = [2] array2 = [1]\n",
      "MERGE: Arr = [1, 0]\n",
      "MERGE: Arr = [1, 2]\n",
      "MERGE: array = [3, 4, 5, 1, 2]\n",
      "\n",
      "MERGE: start = 0 mid = 2 end = 4 array1 = [3, 4, 5] array2 = [1, 2]\n",
      "MERGE: Arr = [1, 0, 0, 0, 0]\n",
      "MERGE: Arr = [1, 2, 0, 0, 0]\n",
      "MERGE: Arr = [1, 2, 3, 0, 0]\n",
      "MERGE: Arr = [1, 2, 3, 4, 0]\n",
      "MERGE: Arr = [1, 2, 3, 4, 5]\n",
      "MERGE: array = [1, 2, 3, 4, 5]\n"
     ]
    }
   ],
   "source": [
    "#Merge Sort\n",
    "\n",
    "def merge(array, start, mid, end):\n",
    "    print()\n",
    "    print(\"MERGE: start = {} mid = {} end = {} array1 = {} array2 = {}\".format(start, mid, end, array[start:mid+1], array[mid+1: end+1]))\n",
    "    p = start\n",
    "    q = mid + 1\n",
    "    k = 0\n",
    "    Arr = [0] * (end - start + 1)\n",
    "\n",
    "    for i in range(start, end+1):\n",
    "        if p > mid:\n",
    "            Arr[k] = array[q]\n",
    "            k+=1\n",
    "            q+=1\n",
    "        elif q > end:\n",
    "            Arr[k] = array[p]\n",
    "            k+=1\n",
    "            p+=1\n",
    "        elif array[p] < array[q]:\n",
    "            Arr[k] = array[p]\n",
    "            k+=1\n",
    "            p+=1\n",
    "        else:\n",
    "            Arr[k] = array[q]\n",
    "            k+=1\n",
    "            q+=1\n",
    "        print(\"MERGE: Arr = {}\".format(Arr))\n",
    "    \n",
    "    for i in range(k):\n",
    "        array[start] = Arr[i]\n",
    "        start+=1\n",
    "    print(\"MERGE: array = {}\".format(array))\n",
    "        \n",
    "    \n",
    "def merge_sort(array, start, end):\n",
    "    if start < end:\n",
    "        print(\"MERGESORT: start = {} end = {} array = {}\".format(start, end, array[start:end+1]))\n",
    "        mid = int((start + end)/2)\n",
    "        merge_sort(array, start, mid)\n",
    "        merge_sort(array, mid+1, end)\n",
    "        merge(array, start, mid, end)\n",
    "\n",
    "array = [5, 4, 3, 2, 1]\n",
    "merge_sort(array, 0 , len(array)-1)"
   ]
  },
  {
   "cell_type": "code",
   "execution_count": 7,
   "metadata": {},
   "outputs": [
    {
     "name": "stdout",
     "output_type": "stream",
     "text": [
      "QUICKSORT : start = 0, end = 7 array = [8, 7, 6, 5, 4, 3, 2, 1]\n",
      "i = 0 j = 7 pivot = 8 array = [8, 7, 6, 5, 4, 3, 2, 1]\n",
      "WHILE : i = 8 j = 7 pivot = 8 array = [8, 7, 6, 5, 4, 3, 2, 1]\n",
      "FINAL : i = 8 j = 7 pivot = 8 array = [1, 7, 6, 5, 4, 3, 2, 8]\n",
      "QUICKSORT : start = 0, end = 6 array = [1, 7, 6, 5, 4, 3, 2]\n",
      "i = 0 j = 6 pivot = 1 array = [1, 7, 6, 5, 4, 3, 2]\n",
      "WHILE : i = 1 j = 0 pivot = 1 array = [1, 7, 6, 5, 4, 3, 2]\n",
      "FINAL : i = 1 j = 0 pivot = 1 array = [1, 7, 6, 5, 4, 3, 2, 8]\n",
      "QUICKSORT : start = 1, end = 6 array = [7, 6, 5, 4, 3, 2]\n",
      "i = 1 j = 6 pivot = 7 array = [7, 6, 5, 4, 3, 2]\n",
      "WHILE : i = 7 j = 6 pivot = 7 array = [7, 6, 5, 4, 3, 2]\n",
      "FINAL : i = 7 j = 6 pivot = 7 array = [1, 2, 6, 5, 4, 3, 7, 8]\n",
      "QUICKSORT : start = 1, end = 5 array = [2, 6, 5, 4, 3]\n",
      "i = 1 j = 5 pivot = 2 array = [2, 6, 5, 4, 3]\n",
      "WHILE : i = 2 j = 1 pivot = 2 array = [2, 6, 5, 4, 3]\n",
      "FINAL : i = 2 j = 1 pivot = 2 array = [1, 2, 6, 5, 4, 3, 7, 8]\n",
      "QUICKSORT : start = 2, end = 5 array = [6, 5, 4, 3]\n",
      "i = 2 j = 5 pivot = 6 array = [6, 5, 4, 3]\n",
      "WHILE : i = 6 j = 5 pivot = 6 array = [6, 5, 4, 3]\n",
      "FINAL : i = 6 j = 5 pivot = 6 array = [1, 2, 3, 5, 4, 6, 7, 8]\n",
      "QUICKSORT : start = 2, end = 4 array = [3, 5, 4]\n",
      "i = 2 j = 4 pivot = 3 array = [3, 5, 4]\n",
      "WHILE : i = 3 j = 2 pivot = 3 array = [3, 5, 4]\n",
      "FINAL : i = 3 j = 2 pivot = 3 array = [1, 2, 3, 5, 4, 6, 7, 8]\n",
      "QUICKSORT : start = 3, end = 4 array = [5, 4]\n",
      "i = 3 j = 4 pivot = 5 array = [5, 4]\n",
      "WHILE : i = 5 j = 4 pivot = 5 array = [5, 4]\n",
      "FINAL : i = 5 j = 4 pivot = 5 array = [1, 2, 3, 4, 5, 6, 7, 8]\n"
     ]
    }
   ],
   "source": [
    "# Quick Sort\n",
    "\n",
    "def swap(a, b):\n",
    "    temp = array[a]\n",
    "    array[a] = array[b]\n",
    "    array[b] = temp\n",
    "\n",
    "def partition(array, start, end):\n",
    "    pivot = array[start]\n",
    "    i = start\n",
    "    j = end\n",
    "    print(\"i = {} j = {} pivot = {} array = {}\".format(i,j,pivot,array[start:end+1]))\n",
    "    while i < j:\n",
    "        while(i <= end and array[i] <= pivot):\n",
    "            i+=1\n",
    "        while(array[j] > pivot):\n",
    "            j-=1\n",
    "        print(\"WHILE : i = {} j = {} pivot = {} array = {}\".format(i,j,pivot,array[start:end+1]))\n",
    "        if i < j:\n",
    "            swap(i, j)\n",
    "    \n",
    "    swap(j, start)\n",
    "    print(\"FINAL : i = {} j = {} pivot = {} array = {}\".format(i,j,pivot,array))\n",
    "    return j\n",
    "\n",
    "def quicksort(array, start, end):\n",
    "    if start < end:\n",
    "        print(\"QUICKSORT : start = {}, end = {} array = {}\".format(start, end, array[start:end+1]))\n",
    "        p = partition(array, start, end)\n",
    "        quicksort(array, start, p-1)\n",
    "        quicksort(array, p+1, end)\n",
    "\n",
    "n = 8\n",
    "l2 = \"8 7 6 5 4 3 2 1\"\n",
    "array = [int(a) for a in l2.split(\" \")]\n",
    "quicksort(array, 0, n-1)"
   ]
  },
  {
   "cell_type": "code",
   "execution_count": 8,
   "metadata": {},
   "outputs": [
    {
     "name": "stdout",
     "output_type": "stream",
     "text": [
      "1 1\n",
      "2 1\n",
      "3 1\n",
      "4 1\n",
      "5 1\n"
     ]
    }
   ],
   "source": [
    "# Count sort\n",
    "# For each distinct integer, print its value and then frequency in a new line. The distinct integers should appear in the output in ascending order.\n",
    "\n",
    "n = 5\n",
    "l2 = \"5 4 3 2 1\"\n",
    "array = [int(a) for a in l2.split()]\n",
    "\n",
    "m = max(array)\n",
    "aux = [0] * (m+1)\n",
    "\n",
    "for a in array:\n",
    "    aux[a] += 1\n",
    "\n",
    "sorted_array = []\n",
    "\n",
    "for i in range(m+1):\n",
    "    if aux[i] != 0:\n",
    "        print(i, end = \" \")\n",
    "        print(aux[i])\n"
   ]
  },
  {
   "cell_type": "code",
   "execution_count": 9,
   "metadata": {},
   "outputs": [
    {
     "name": "stdout",
     "output_type": "stream",
     "text": [
      "170 90 802 2 24 45 75 66 \n",
      "802 2 24 45 66 170 75 90 \n",
      "2 24 45 66 75 90 170 802 \n"
     ]
    }
   ],
   "source": [
    "# Radix sort\n",
    "# Print the array after each pass. See the output for clarity.\n",
    "\n",
    "n = 8\n",
    "l2 = \"170 45 75 90 802 24 2 66\"\n",
    "array = [int(a) for a in l2.split()]\n",
    "m = max(array)\n",
    "\n",
    "def count_sort(array, mul, n):\n",
    "    aux = [0] * (10)\n",
    "    output = [0] * n\n",
    "    # print\n",
    "    for a in array:\n",
    "        aux[int(a/mul)%10] += 1\n",
    "    for i in range(1,10):\n",
    "        aux[i]+=aux[i-1]\n",
    "    for i in range(n-1, -1, -1):\n",
    "        output[aux[int(array[i]/mul)%10]-1] = array[i]\n",
    "        aux[int(array[i]/mul)%10]-=1\n",
    "    for i in range(n):\n",
    "        array[i] = output[i]\n",
    "\n",
    "mul = 1\n",
    "while m != 0:\n",
    "    count_sort(array, mul, n)\n",
    "    for i in array:\n",
    "        print(i, end = \" \")\n",
    "    print()\n",
    "    m = int(m/10)\n",
    "    mul *=10"
   ]
  },
  {
   "cell_type": "code",
   "execution_count": 10,
   "metadata": {},
   "outputs": [
    {
     "name": "stdout",
     "output_type": "stream",
     "text": [
      "-1\n",
      "-1\n",
      "3 2 1\n",
      "4 3 2\n",
      "5 4 3\n"
     ]
    }
   ],
   "source": [
    "# Heap sort\n",
    "# For each query, print the top 3 richest people's amount of money in the town and if there are less than 3 people in town then print -1.\n",
    "\n",
    "T = 5\n",
    "l2 = [1,2,3,4,5]\n",
    "array = [99]\n",
    "\n",
    "def swap(arr ,a, b):\n",
    "    arr[a],arr[b] = arr[b],arr[a]\n",
    "    \n",
    "def maxHeapify(start, end):\n",
    "    print(\"Inside = {}\".format(array[start:end]))\n",
    "    n = end-1\n",
    "    for i in range(int(n/2), 0,-1):\n",
    "        current = i\n",
    "        while(current <= int(n/2)):\n",
    "            print(\"current = {}\".format(current))\n",
    "            left = current*2 \n",
    "            right = current*2 + 1\n",
    "            print(\"left = {} right = {}\".format(left,right))\n",
    "            if right > n:\n",
    "                m = left\n",
    "            else:\n",
    "                m = left if array[left] >= array[right] else right\n",
    "            print(\"m = {}\".format(m))\n",
    "            if array[current] < array[m]:\n",
    "                swap(array, current, m)\n",
    "                current = m\n",
    "            else:\n",
    "                break\n",
    "\n",
    "\n",
    "def insertHeap(array, a):\n",
    "    array.append(a)\n",
    "    current = len(array) - 1\n",
    "    while current > 1:\n",
    "        parent = int(current/2)\n",
    "        if array[parent] < array[current]:\n",
    "            swap(array, parent, current)\n",
    "            current = parent\n",
    "        else:\n",
    "            break\n",
    "    if len(array) <= 3:\n",
    "        print(-1)\n",
    "    else:\n",
    "        if len(array) > 8:\n",
    "            max_arr = array[1:8]\n",
    "            max_arr.sort()\n",
    "        else:\n",
    "            max_arr = array[1:len(array)]\n",
    "            max_arr.sort()\n",
    "        print(max_arr[-1],max_arr[-2],max_arr[-3])\n",
    "\n",
    "\n",
    "for i in range(T):\n",
    "    insertHeap(array, l2.pop(0))"
   ]
  },
  {
   "cell_type": "code",
   "execution_count": null,
   "metadata": {},
   "outputs": [],
   "source": []
  }
 ],
 "metadata": {
  "kernelspec": {
   "display_name": "Python 3",
   "language": "python",
   "name": "python3"
  },
  "language_info": {
   "codemirror_mode": {
    "name": "ipython",
    "version": 3
   },
   "file_extension": ".py",
   "mimetype": "text/x-python",
   "name": "python",
   "nbconvert_exporter": "python",
   "pygments_lexer": "ipython3",
   "version": "3.7.6"
  }
 },
 "nbformat": 4,
 "nbformat_minor": 4
}
